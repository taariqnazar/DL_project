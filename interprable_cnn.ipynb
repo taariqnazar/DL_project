{
 "cells": [
  {
   "cell_type": "code",
   "execution_count": null,
   "id": "98d40306-8adf-4aa8-8aa9-0df3e3f650ac",
   "metadata": {},
   "outputs": [],
   "source": [
    "import pandas as pd\n",
    "import numpy as np\n",
    "import tensorflow as tf\n",
    "from sklearn.model_selection import train_test_split\n",
    "from data_processing_utils import *\n",
    "\n",
    "import shap\n",
    "import ipywidgets as widgets\n",
    "shap.initjs()\n",
    "\n",
    "import seaborn as sb\n",
    "import lime.lime_tabular\n",
    "from sklearn.linear_model import HuberRegressor\n",
    "\n",
    "from deepexplain.tensorflow import DeepExplain"
   ]
  },
  {
   "cell_type": "markdown",
   "id": "9800f84d-d1aa-4cbb-ab98-465f709b3481",
   "metadata": {
    "jp-MarkdownHeadingCollapsed": true,
    "tags": []
   },
   "source": [
    "# Data"
   ]
  },
  {
   "cell_type": "code",
   "execution_count": null,
   "id": "039e495a-ded8-4849-817a-6f94a4c0ab1a",
   "metadata": {},
   "outputs": [],
   "source": [
    "df=pd.read_csv('data.csv',sep=';', decimal=\",\", header=[0,1], index_col=0)\n",
    "train_X, test_X, train_Y, test_Y = train_test_split(df.iloc[:,:-5], df.iloc[:,-5:], test_size=0.25, random_state=42)\n",
    "\n",
    "train_X = train_X.stack().values.reshape(-1,8,11)\n",
    "test_X = test_X.stack().values.reshape(-1,8,11)\n",
    "\n",
    "train_Y = train_Y.droplevel(1, axis=1)\n",
    "test_Y = test_Y.droplevel(1, axis=1)\n",
    "\n",
    "scaler = Scaler()\n",
    "scaler.fit(train_X)"
   ]
  },
  {
   "cell_type": "markdown",
   "id": "e003c322-1a32-4343-a5dc-cd9efaeeeefa",
   "metadata": {
    "jp-MarkdownHeadingCollapsed": true,
    "tags": []
   },
   "source": [
    "# Model"
   ]
  },
  {
   "cell_type": "markdown",
   "id": "973cd1f3-dd94-47e5-979e-2c6c0fe3157c",
   "metadata": {},
   "source": [
    "## Init"
   ]
  },
  {
   "cell_type": "code",
   "execution_count": null,
   "id": "684145b1-a920-483a-a938-4cf8184b0451",
   "metadata": {},
   "outputs": [],
   "source": [
    "#Params\n",
    "batch_size = 64\n",
    "STEPS_PER_EPOCH = int(train_X.shape[0]/batch_size)\n",
    "\n",
    "lr_schedule = tf.keras.optimizers.schedules.InverseTimeDecay(\n",
    "      0.001, decay_steps=STEPS_PER_EPOCH*1000, decay_rate=1, staircase=False)\n",
    "optimizer = tf.keras.optimizers.Adam(lr_schedule)\n",
    "loss = tf.keras.losses.mean_squared_error\n",
    "\n",
    "def init_cnn():\n",
    "    input_0 = tf.keras.layers.Input(shape=(8, 11, 1,))\n",
    "    x = tf.keras.layers.Conv2D(32, (3, 3), activation='selu')(input_0)\n",
    "    x = tf.keras.layers.MaxPooling2D((2, 2))(x)\n",
    "    x = tf.keras.layers.Flatten()(x)\n",
    "    x = tf.keras.layers.Dense(50,activation ='selu')(x)\n",
    "\n",
    "    d1 = tf.keras.layers.Dense(1, activation='hard_sigmoid',\n",
    "                      kernel_initializer=tf.keras.initializers.VarianceScaling(scale=1.0, mode='fan_in'),\n",
    "                      bias_initializer=tf.keras.initializers.zeros(),\n",
    "                      kernel_regularizer=tf.keras.regularizers.l2(0.000001))(x)\n",
    "    d2 = tf.keras.layers.Dense(1, activation='hard_sigmoid',\n",
    "                      kernel_initializer=tf.keras.initializers.VarianceScaling(scale=1.0, mode='fan_in'),\n",
    "                      bias_initializer=tf.keras.initializers.zeros(),\n",
    "                      kernel_regularizer=tf.keras.regularizers.l2(0.000001))(x)\n",
    "    d3 = tf.keras.layers.Dense(1, activation='hard_sigmoid',\n",
    "                      kernel_initializer=tf.keras.initializers.VarianceScaling(scale=1.0, mode='fan_in'),\n",
    "                      bias_initializer=tf.keras.initializers.zeros(),\n",
    "                      kernel_regularizer=tf.keras.regularizers.l2(0.000001))(x)\n",
    "    d4 = tf.keras.layers.Dense(1, activation='hard_sigmoid',\n",
    "                      kernel_initializer=tf.keras.initializers.VarianceScaling(scale=1.0, mode='fan_in'),\n",
    "                      bias_initializer=tf.keras.initializers.zeros(),\n",
    "                      kernel_regularizer=tf.keras.regularizers.l2(0.000001))(x)\n",
    "    d5 = tf.keras.layers.Dense(1, activation='hard_sigmoid',\n",
    "                      kernel_initializer=tf.keras.initializers.VarianceScaling(scale=1.0, mode='fan_in'),\n",
    "                      bias_initializer=tf.keras.initializers.zeros(),\n",
    "                      kernel_regularizer=tf.keras.regularizers.l2(0.000001))(x)\n",
    "\n",
    "    x = tf.keras.layers.Concatenate(axis=1)([d1, d2, d3, d4, d5])\n",
    "\n",
    "    model_cnn = tf.keras.models.Model(inputs=input_0, outputs=x, name='CNN')\n",
    "\n",
    "    model_cnn.compile(optimizer=optimizer, loss=loss)\n",
    "    return model_cnn\n",
    "\n",
    "model = init_cnn()"
   ]
  },
  {
   "cell_type": "markdown",
   "id": "8ef8077e-0d30-4b12-812a-9ee2e3b17721",
   "metadata": {},
   "source": [
    "## Train"
   ]
  },
  {
   "cell_type": "code",
   "execution_count": null,
   "id": "c9e933a6-1181-4d66-9c8a-58fb33d239cf",
   "metadata": {},
   "outputs": [],
   "source": [
    "batch_size = 64\n",
    "history = model_cnn.fit(\n",
    "    scaler.transform(train_X).reshape(-1,8,11,1), scale_to_0_1(train_Y).values,\n",
    "    validation_data= (scaler.transform(test_X).reshape(-1,8,11,1), scale_to_0_1(test_Y).values),\n",
    "    batch_size=batch_size,\n",
    "    epochs=100,\n",
    "    #callbacks =[early_stopping],\n",
    "    verbose=0,\n",
    ")"
   ]
  },
  {
   "cell_type": "code",
   "execution_count": null,
   "id": "81693e98-4ac6-4f36-ab95-b6dec27588f0",
   "metadata": {},
   "outputs": [],
   "source": [
    "history_df = pd.DataFrame(history.history)\n",
    "history_df.loc[:, ['loss', 'val_loss']].plot(figsize=(12,8));"
   ]
  },
  {
   "cell_type": "markdown",
   "id": "c50abf3b-753a-4ee0-a883-1eeb0654691e",
   "metadata": {},
   "source": [
    "# Interprability"
   ]
  },
  {
   "cell_type": "markdown",
   "id": "c7fd37a1-093c-4cfe-b41b-3c762312c7f9",
   "metadata": {},
   "source": [
    "## LIME"
   ]
  },
  {
   "cell_type": "code",
   "execution_count": null,
   "id": "02c4e729-8052-4bce-8491-668302246acf",
   "metadata": {},
   "outputs": [],
   "source": [
    "def flatten_data(data):\n",
    "    return data.reshape(-1,88)\n",
    "\n",
    "def unflatten_data(data):\n",
    "    return data.reshape(-1,8,11,1)\n",
    "\n",
    "def flatten_cnn(data):\n",
    "    data = unflatten_data(data)\n",
    "    return model.predict(data)"
   ]
  },
  {
   "cell_type": "code",
   "execution_count": null,
   "id": "f2f19715-fbb0-426d-b3ed-8c008f588045",
   "metadata": {},
   "outputs": [],
   "source": [
    "X = np.concatenate([train_X, test_X], axis=0).reshape(-1,8,11)\n",
    "Y = np.concatenate([train_Y, test_Y], axis=0)\n",
    "#Maturity x Strike\n",
    "\n",
    "flatten_data(scaler.transform(X))"
   ]
  },
  {
   "cell_type": "code",
   "execution_count": null,
   "id": "3f390bd6-3b9a-4bec-8f7c-d1966f075cf2",
   "metadata": {},
   "outputs": [],
   "source": [
    "explainer = lime.lime_tabular.LimeTabularExplainer(flatten_data(scaler.transform(X)), feature_names=[f'T={s[1]} K={s[0]}' for s in df.iloc[:,:-5].columns.values], class_names=['beta'], mode='regression', verbose=False)\n",
    "exp = explainer.explain_instance(flatten_data(scaler.transform(X))[0], flatten_cnn, num_features=88, num_samples=1500, model_regressor=HuberRegressor(), top_labels=1)"
   ]
  },
  {
   "cell_type": "code",
   "execution_count": null,
   "id": "cccfe52f-3e6e-4da2-89f6-c2fdd37bfdf1",
   "metadata": {},
   "outputs": [],
   "source": [
    "v0_lime= pd.DataFrame(exp.as_map()[0]).sort_values(0)\n",
    "temp = pd.DataFrame(v0_lime[1].values.reshape(11,8))\n",
    "cols = df.iloc[:,:-5].columns.levels[0][:-5].values\n",
    "d = {}\n",
    "for i in range(11):\n",
    "    d[i] = f'K={cols[i]}'\n",
    "\n",
    "temp = temp.rename(d)\n",
    "    \n",
    "cols = df.iloc[:,:-5].columns.levels[1][:-5].values\n",
    "d = {}\n",
    "for i in range(8):\n",
    "    d[i] = f'T={cols[i]}'\n",
    "\n",
    "temp = temp.rename(d,axis=1)"
   ]
  },
  {
   "cell_type": "code",
   "execution_count": null,
   "id": "8fd740b7-14ce-4fdc-bf89-32cd2208cc4d",
   "metadata": {},
   "outputs": [],
   "source": [
    "plt.title(f'LIME Attributions Heat Map')\n",
    "sb.heatmap(temp.abs().T)\n",
    "#plt.savefig(f'lime_cnn_heatmap.png', bbox_inches = 'tight')"
   ]
  },
  {
   "cell_type": "markdown",
   "id": "adeefc2c-483f-4c9d-b0b0-b96f0c7c7d48",
   "metadata": {
    "tags": []
   },
   "source": [
    "## SHAP"
   ]
  },
  {
   "cell_type": "code",
   "execution_count": null,
   "id": "e4f0f494-e5ee-4793-9b30-b67f79b01403",
   "metadata": {},
   "outputs": [],
   "source": [
    "explainer = shap.DeepExplainer(model = model_cnn, data = scaler.transform(train_X).reshape(-1,8,11,1)[:1500])\n",
    "shap_value = explainer.shap_values(X = scaler.transform(test_X).reshape(-1,8,11,1)[:1500],check_additivity=False)"
   ]
  },
  {
   "cell_type": "code",
   "execution_count": null,
   "id": "2c704175-8b9e-443c-a081-0e0d5de2465a",
   "metadata": {},
   "outputs": [],
   "source": [
    "temp_data = scaler.transform(train_X).reshape(-1,8,11,1)[:1500].copy()"
   ]
  },
  {
   "cell_type": "code",
   "execution_count": null,
   "id": "f6a1d30e-0fe6-4e35-9170-a1994cdb4f68",
   "metadata": {},
   "outputs": [],
   "source": [
    "print(f'Current Label Shown: {list_of_labels[current_label.value]}\\n')\n",
    "\n",
    "plt.title(list_of_labels[current_label.value])\n",
    "shap.summary_plot(shap_values = shap_value[0].reshape(-1,88),\n",
    "                  features = temp_data.reshape(-1,88),\n",
    "                  feature_names = [f'T={t} K={k}' for t in maturity for k in strike],\n",
    "                  show=False\n",
    "                  )\n",
    "plt.savefig('v0_shapley_cnn.png', bbox_inches='tight')"
   ]
  },
  {
   "cell_type": "markdown",
   "id": "acbf1a99-1bc5-449c-8068-d826f8675217",
   "metadata": {},
   "source": [
    "### Aggregated bar plot"
   ]
  },
  {
   "cell_type": "code",
   "execution_count": null,
   "id": "fa4a5f4b-1b9b-4ff2-99c7-f4c922189637",
   "metadata": {},
   "outputs": [],
   "source": [
    "mean_attr = np.array(shap_value).mean(axis=1).reshape(5,8,11).transpose([0,2,1]).reshape(5,-1)"
   ]
  },
  {
   "cell_type": "code",
   "execution_count": null,
   "id": "0ab97871-cfd4-423b-9552-f4d9d02a7c9a",
   "metadata": {},
   "outputs": [],
   "source": [
    "agg_shap = pd.DataFrame(np.abs(mean_attr), columns = temp_data.columns.values).T\n",
    "\n",
    "inds = agg_shap.sum(axis=1).sort_values(ascending=True)[-20:].index\n",
    "\n",
    "agg_shap.loc[inds].plot.barh(width=0.6,stacked=True, figsize=(8,8))\n",
    "plt.legend([r'$\\upsilon_0$', r'$\\rho$', r'$\\sigma$', r'$\\theta$', r'$\\kappa$'], frameon=False)\n",
    "#plt.savefig('shap_cnn_barh_1.png', bbox_inches='tight')"
   ]
  },
  {
   "cell_type": "markdown",
   "id": "228c98ec-af88-41a5-9170-befaf52aa631",
   "metadata": {},
   "source": [
    "### Heat map"
   ]
  },
  {
   "cell_type": "code",
   "execution_count": null,
   "id": "148f7ee0-963e-4924-9a94-275b5df6b2a7",
   "metadata": {},
   "outputs": [],
   "source": [
    "temp = pd.DataFrame(agg_shap.sum(axis=1).values.reshape(11,8))"
   ]
  },
  {
   "cell_type": "code",
   "execution_count": null,
   "id": "7a53eff3-e392-434a-b8aa-bbdce1f6b036",
   "metadata": {},
   "outputs": [],
   "source": [
    "cols = df.columns.levels[0][:-5].values\n",
    "d = {}\n",
    "for i in range(11):\n",
    "    d[i] = f'K={cols[i]}'\n",
    "\n",
    "temp = temp.rename(d)\n",
    "    \n",
    "cols = df.columns.levels[1][:-5].values\n",
    "d = {}\n",
    "for i in range(8):\n",
    "    d[i] = f'T={cols[i]}'\n",
    "\n",
    "temp = temp.rename(d,axis=1)"
   ]
  },
  {
   "cell_type": "code",
   "execution_count": null,
   "id": "e61ac31a-d399-4bf9-a422-b77ce7243ed6",
   "metadata": {},
   "outputs": [],
   "source": [
    "plt.title(f'SHAP Attributions Heat Map')\n",
    "sb.heatmap(temp.T)\n",
    "plt.savefig(f'shapley_cnn_heatmap.png', bbox_inches = 'tight')"
   ]
  },
  {
   "cell_type": "markdown",
   "id": "652ac1dc-1e5a-43c1-914f-2900417da736",
   "metadata": {
    "tags": []
   },
   "source": [
    "## E-LRP"
   ]
  },
  {
   "cell_type": "code",
   "execution_count": null,
   "id": "9ce24a00-dd37-4280-9ae1-cdd877593426",
   "metadata": {},
   "outputs": [],
   "source": [
    "X = df.iloc[:,:-5].stack().values.reshape(-1,8,11)\n",
    "X = scaler.transform(X).reshape(-1,8,11,1)\n",
    "\n",
    "\n",
    "#xs =zca_process(X)[0:1500].values\n",
    "title_map = {\n",
    "    'elrp': 'Epsilon-LRP'\n",
    "}"
   ]
  },
  {
   "cell_type": "code",
   "execution_count": null,
   "id": "73efeb63-bf04-413d-bade-2000fa8580ef",
   "metadata": {},
   "outputs": [],
   "source": [
    "xs =X[0:1500]\n",
    "method_name = \"elrp\""
   ]
  },
  {
   "cell_type": "code",
   "execution_count": null,
   "id": "58144ab9-ba95-4f90-a12e-4a3a54d7673b",
   "metadata": {},
   "outputs": [],
   "source": [
    "session = tf.keras.backend.get_session()\n",
    "with DeepExplain(session=session) as de:\n",
    "    input_tensors = model.inputs\n",
    "    fModel = tf.keras.models.Model(inputs = input_tensors, outputs = model.outputs)\n",
    "    target_tensor = fModel(input_tensors)\n",
    "    attributions = de.explain(method_name, target_tensor, input_tensors, [xs])"
   ]
  },
  {
   "cell_type": "code",
   "execution_count": null,
   "id": "5a22d195-37ec-45fe-bcc3-5f7c3876272c",
   "metadata": {},
   "outputs": [],
   "source": [
    "attr = attributions[0].reshape(-1,8,11)\n",
    "mean_attr = np.mean(attr,axis=0)"
   ]
  },
  {
   "cell_type": "code",
   "execution_count": null,
   "id": "e036e0e4-1ee2-4c52-aaca-f334dba6b8c0",
   "metadata": {},
   "outputs": [],
   "source": [
    "attributes = pd.DataFrame(mean_attr).T\n",
    "cols = df.columns.levels[0][:-5].values\n",
    "d = {}\n",
    "for i in range(11):\n",
    "    d[i] = f'K={cols[i]}'\n",
    "\n",
    "attributes = attributes.rename(d)\n",
    "    \n",
    "cols = df.columns.levels[1][:-5].values\n",
    "d = {}\n",
    "for i in range(8):\n",
    "    d[i] = f'T={cols[i]}'\n",
    "    \n",
    "attributes = attributes.rename(d,axis=1)"
   ]
  },
  {
   "cell_type": "code",
   "execution_count": null,
   "id": "f19a311d-c006-4c57-9191-007dc736df22",
   "metadata": {},
   "outputs": [],
   "source": [
    "attributes_=pd.DataFrame(attributes.stack()).T\n",
    "cols = [f'T={i[1]} K={i[0]}' for i in df.iloc[0:2,:-5].columns.values]\n",
    "attributes_.columns = cols\n",
    "attributes_.abs().sort_values(0, axis=1,ascending=True).T.iloc[-20:].plot.barh(legend=False,figsize=(8,8))\n",
    "#plt.savefig(f'gradinput_cnn_barh.png',  bbox_inches='tight')"
   ]
  },
  {
   "cell_type": "code",
   "execution_count": null,
   "id": "b6a24a83-8086-4db2-94d9-f65af565ee61",
   "metadata": {},
   "outputs": [],
   "source": [
    "plt.title(f'{title_map[method_name]} Attributions Heat Map')\n",
    "sb.heatmap(attributes.abs().T)\n",
    "plt.savefig(f'{method_name}_cnn_heatmap.png',  bbox_inches='tight')"
   ]
  },
  {
   "cell_type": "markdown",
   "id": "fe28cb0d-ecff-44a2-b5f8-a5181ea04949",
   "metadata": {
    "tags": []
   },
   "source": [
    "## Integrated Gradient"
   ]
  },
  {
   "cell_type": "code",
   "execution_count": null,
   "id": "e8164437-acf0-4b8b-adc4-6ac32db5ecb4",
   "metadata": {},
   "outputs": [],
   "source": [
    "X = df.iloc[:,:-5].stack().values.reshape(-1,8,11)\n",
    "X = scaler.transform(X).reshape(-1,8,11,1)\n",
    "\n",
    "\n",
    "#xs =zca_process(X)[0:1500].values\n",
    "title_map = {\n",
    "    'intgrad': 'Integrated Gradient'\n",
    "}"
   ]
  },
  {
   "cell_type": "code",
   "execution_count": null,
   "id": "d9133656-c27b-4bbf-a509-4b94e475126a",
   "metadata": {},
   "outputs": [],
   "source": [
    "xs =X[0:1500]\n",
    "method_name = \"intgrad\""
   ]
  },
  {
   "cell_type": "code",
   "execution_count": null,
   "id": "e19f2064-435e-4489-8da6-0d70278e256b",
   "metadata": {},
   "outputs": [],
   "source": [
    "session = tf.keras.backend.get_session()\n",
    "with DeepExplain(session=session) as de:\n",
    "    input_tensors = model.inputs\n",
    "    fModel = tf.keras.models.Model(inputs = input_tensors, outputs = model.outputs)\n",
    "    target_tensor = fModel(input_tensors)\n",
    "    attributions = de.explain(method_name, target_tensor, input_tensors, [xs])"
   ]
  },
  {
   "cell_type": "code",
   "execution_count": null,
   "id": "93bc5904-6a5f-4247-a8ff-b60eba12b698",
   "metadata": {},
   "outputs": [],
   "source": [
    "attr = attributions[0].reshape(-1,8,11)\n",
    "mean_attr = np.mean(attr,axis=0)"
   ]
  },
  {
   "cell_type": "code",
   "execution_count": null,
   "id": "6c43f70c-d3c6-4473-99e2-28b4466124ff",
   "metadata": {},
   "outputs": [],
   "source": [
    "attributes = pd.DataFrame(mean_attr).T\n",
    "cols = df.columns.levels[0][:-5].values\n",
    "d = {}\n",
    "for i in range(11):\n",
    "    d[i] = f'K={cols[i]}'\n",
    "\n",
    "attributes = attributes.rename(d)\n",
    "    \n",
    "cols = df.columns.levels[1][:-5].values\n",
    "d = {}\n",
    "for i in range(8):\n",
    "    d[i] = f'T={cols[i]}'\n",
    "    \n",
    "attributes = attributes.rename(d,axis=1)"
   ]
  },
  {
   "cell_type": "code",
   "execution_count": null,
   "id": "826e6852-0c0b-4407-8b0c-6f3eb1089479",
   "metadata": {},
   "outputs": [],
   "source": [
    "attributes_=pd.DataFrame(attributes.stack()).T\n",
    "cols = [f'T={i[1]} K={i[0]}' for i in df.iloc[0:2,:-5].columns.values]\n",
    "attributes_.columns = cols\n",
    "attributes_.abs().sort_values(0, axis=1,ascending=True).T.iloc[-20:].plot.barh(legend=False,figsize=(8,8))\n",
    "#plt.savefig(f'gradinput_cnn_barh.png',  bbox_inches='tight')"
   ]
  },
  {
   "cell_type": "code",
   "execution_count": null,
   "id": "8307c324-821f-4f86-a70d-32f20ac4b757",
   "metadata": {},
   "outputs": [],
   "source": [
    "plt.title(f'{title_map[method_name]} Attributions Heat Map')\n",
    "sb.heatmap(attributes.abs().T)\n",
    "plt.savefig(f'{method_name}_cnn_heatmap.png',  bbox_inches='tight')"
   ]
  }
 ],
 "metadata": {
  "kernelspec": {
   "display_name": "Python 3",
   "language": "python",
   "name": "python3"
  },
  "language_info": {
   "codemirror_mode": {
    "name": "ipython",
    "version": 3
   },
   "file_extension": ".py",
   "mimetype": "text/x-python",
   "name": "python",
   "nbconvert_exporter": "python",
   "pygments_lexer": "ipython3",
   "version": "3.6.12"
  }
 },
 "nbformat": 4,
 "nbformat_minor": 5
}
