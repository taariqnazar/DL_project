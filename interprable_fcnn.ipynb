{
 "cells": [
  {
   "cell_type": "code",
   "execution_count": null,
   "id": "de5266d6-bf04-43fb-96ab-b38073b29593",
   "metadata": {},
   "outputs": [],
   "source": [
    "import pandas as pd\n",
    "import numpy as np\n",
    "import tensorflow as tf\n",
    "from sklearn.model_selection import train_test_split\n",
    "from data_processing_utils import *\n",
    "\n",
    "from deepexplain.tensorflow import DeepExplain\n",
    "import seaborn as sb\n",
    "\n",
    "import shap\n",
    "import ipywidgets as widgets\n",
    "shap.initjs()\n",
    "\n",
    "import lime.lime_tabular\n",
    "from sklearn.linear_model import HuberRegressor"
   ]
  },
  {
   "cell_type": "markdown",
   "id": "ec71d4dd-3116-4635-be28-b8cf2de8cae1",
   "metadata": {
    "tags": []
   },
   "source": [
    "# Data"
   ]
  },
  {
   "cell_type": "code",
   "execution_count": null,
   "id": "8cca63e6-617d-4e80-8f4c-7bb6e1a55c7b",
   "metadata": {},
   "outputs": [],
   "source": [
    "df=pd.read_csv('data.csv',sep=';', decimal=\",\", header=[0,1], index_col=0)\n",
    "train_X, test_X, train_Y, test_Y = train_test_split(df.iloc[:,:-5], df.iloc[:,-5:], test_size=0.25, random_state=42)"
   ]
  },
  {
   "cell_type": "markdown",
   "id": "2bfdbcb8-da18-4bf7-bd50-bf5fe8d1b3ed",
   "metadata": {
    "tags": []
   },
   "source": [
    "# Model"
   ]
  },
  {
   "cell_type": "markdown",
   "id": "e9eb654b-c904-405a-8ac7-d076ff76fdf6",
   "metadata": {
    "tags": []
   },
   "source": [
    "## Init"
   ]
  },
  {
   "cell_type": "code",
   "execution_count": null,
   "id": "a028c552-cd97-4ff8-8b2e-de621bb90de9",
   "metadata": {},
   "outputs": [],
   "source": [
    "#params\n",
    "batch_size = 256\n",
    "STEPS_PER_EPOCH = int(train_X.shape[0]/batch_size)\n",
    "\n",
    "lr_schedule = tf.keras.optimizers.schedules.InverseTimeDecay(\n",
    "      0.001, decay_steps=STEPS_PER_EPOCH*1000, decay_rate=1, staircase=False)\n",
    "optimizer = tf.keras.optimizers.Adam(lr_schedule)\n",
    "loss = tf.keras.losses.mean_squared_error\n",
    "\n",
    "def init_fcnn():\n",
    "    x1 = tf.keras.layers.Input(shape=(88,))\n",
    "    x2 = tf.keras.layers.Dense(67, activation='elu',\n",
    "                      kernel_initializer=tf.keras.initializers.VarianceScaling(scale=1.0, mode='fan_in'),\n",
    "                      bias_initializer=tf.keras.initializers.zeros(),\n",
    "                      kernel_regularizer=tf.keras.regularizers.l2(0.000001))(x1)\n",
    "    x3 = tf.keras.layers.Dense(46, activation='elu',\n",
    "                      kernel_initializer=tf.keras.initializers.VarianceScaling(scale=1.0, mode='fan_in'),\n",
    "                      bias_initializer=tf.keras.initializers.zeros(),\n",
    "                      kernel_regularizer=tf.keras.regularizers.l2(0.000001))(x2)\n",
    "    x4 = tf.keras.layers.Dense(25, activation='elu',\n",
    "                      kernel_initializer=tf.keras.initializers.VarianceScaling(scale=1.0, mode='fan_in'),\n",
    "                      bias_initializer=tf.keras.initializers.zeros(),\n",
    "                      kernel_regularizer=tf.keras.regularizers.l2(0.000001))(x3)\n",
    "    y = tf.keras.layers.Dense(5, activation='hard_sigmoid',\n",
    "                      kernel_initializer=tf.keras.initializers.VarianceScaling(scale=1.0, mode='fan_in'),\n",
    "                      bias_initializer=tf.keras.initializers.zeros(),\n",
    "                      kernel_regularizer=tf.keras.regularizers.l2(0.000001))(x4)\n",
    "    \n",
    "    model = tf.keras.models.Model(inputs=x1, outputs=y, name='FCNN')\n",
    "    model.compile(optimizer=optimizer, loss=loss)\n",
    "    \n",
    "    return model\n",
    "\n",
    "model = init_fcnn()"
   ]
  },
  {
   "cell_type": "markdown",
   "id": "12872957-ed7b-4dd5-b742-1b351cf80360",
   "metadata": {
    "tags": []
   },
   "source": [
    "## Train"
   ]
  },
  {
   "cell_type": "code",
   "execution_count": null,
   "id": "58f3499a-9bc3-4081-9a80-c4569e8adeed",
   "metadata": {},
   "outputs": [],
   "source": [
    "history = model.fit(\n",
    "    zca_process(train_X).values, scale_to_0_1(train_Y).values,\n",
    "    validation_data=(zca_process(test_X).values, scale_to_0_1(test_Y).values),\n",
    "    batch_size=batch_size,\n",
    "    epochs=2,\n",
    "    #callbacks =[early_stopping],\n",
    "    verbose=False,\n",
    ")"
   ]
  },
  {
   "cell_type": "code",
   "execution_count": null,
   "id": "b716545c-4600-4e0c-bc6b-88d91a2605fe",
   "metadata": {},
   "outputs": [],
   "source": [
    "history_df = pd.DataFrame(history.history)\n",
    "history_df.loc[:, ['loss', 'val_loss']].plot(figsize=(12,6))"
   ]
  },
  {
   "cell_type": "markdown",
   "id": "f288a7b5-15d2-48eb-bfc5-899544261d1a",
   "metadata": {
    "tags": []
   },
   "source": [
    "# Interprability"
   ]
  },
  {
   "cell_type": "markdown",
   "id": "f0cd218f-e723-447a-abac-0e6b46a5ea98",
   "metadata": {
    "tags": []
   },
   "source": [
    "## LIME"
   ]
  },
  {
   "cell_type": "code",
   "execution_count": null,
   "id": "d76557ae-db1c-4e47-ad88-b88db80c6556",
   "metadata": {},
   "outputs": [],
   "source": [
    "X = df.iloc[:,:-5]\n",
    "Y = df.iloc[:, -5:]"
   ]
  },
  {
   "cell_type": "code",
   "execution_count": null,
   "id": "f967337c-f314-42d5-83f9-3e8ba4998506",
   "metadata": {},
   "outputs": [],
   "source": [
    "explainer = lime.lime_tabular.LimeTabularExplainer(zca_process(X).values, feature_names=[f'T={s[1]} K={s[0]}' for s in X.columns.values], class_names=['beta'], mode='regression', verbose=False)\n",
    "exp = explainer.explain_instance(zca_process(X).iloc[0].values, model.predict, num_features=88, num_samples=1500, model_regressor=HuberRegressor(), top_labels=1)"
   ]
  },
  {
   "cell_type": "code",
   "execution_count": null,
   "id": "bb6d78e7-1afd-4adc-84ac-0fa4fabcca29",
   "metadata": {},
   "outputs": [],
   "source": [
    "v0_lime= pd.DataFrame(exp.as_map()[0]).sort_values(0)\n",
    "temp = pd.DataFrame(v0_lime[1].values.reshape(11,8))\n",
    "cols = X.columns.levels[0][:-5].values\n",
    "d = {}\n",
    "for i in range(11):\n",
    "    d[i] = f'K={cols[i]}'\n",
    "\n",
    "temp = temp.rename(d)\n",
    "    \n",
    "cols = X.columns.levels[1][:-5].values\n",
    "d = {}\n",
    "for i in range(8):\n",
    "    d[i] = f'T={cols[i]}'\n",
    "\n",
    "temp = temp.rename(d,axis=1)"
   ]
  },
  {
   "cell_type": "code",
   "execution_count": null,
   "id": "49d17292-54f7-4d67-ab0d-50195180b08b",
   "metadata": {},
   "outputs": [],
   "source": [
    "plt.title(f'LIME Attributions Heat Map')\n",
    "sb.heatmap(temp.abs().T)\n",
    "#plt.savefig(f'lime_fcnn_heatmap.png', bbox_inches = 'tight')"
   ]
  },
  {
   "cell_type": "markdown",
   "id": "12aaecfe-79be-4bf7-b53c-9168bbd75f98",
   "metadata": {
    "tags": []
   },
   "source": [
    "## SHAP"
   ]
  },
  {
   "cell_type": "code",
   "execution_count": null,
   "id": "e95b7216-81eb-4688-8969-23c427e1dabd",
   "metadata": {},
   "outputs": [],
   "source": [
    "explainer = shap.KernelExplainer(model = model.predict, data =shap.kmeans(zca_process(train_X),15), link = \"identity\")\n",
    "shap_value = explainer.shap_values(X = zca_process(test_X).head(1500), nsamples = 1500)"
   ]
  },
  {
   "cell_type": "code",
   "execution_count": null,
   "id": "65575142-6061-453f-b877-97c09d402b39",
   "metadata": {},
   "outputs": [],
   "source": [
    "list_of_labels = train_Y.columns.get_level_values(0).values\n",
    "\n",
    "# Create a list of tuples so that the index of the label is what is returned\n",
    "tuple_of_labels = list(zip(list_of_labels, range(len(list_of_labels))))\n",
    "\n",
    "# Create a widget for the labels and then display the widget\n",
    "current_label = widgets.Dropdown(options=tuple_of_labels,\n",
    "                              value=0,\n",
    "                              description='Select Label:'\n",
    "                              )\n",
    "\n",
    "# Display the dropdown list (Note: access index value with 'current_label.value')\n",
    "current_label"
   ]
  },
  {
   "cell_type": "code",
   "execution_count": null,
   "id": "8c8f3f50-d5e5-4849-8b98-b6bf8bea62ef",
   "metadata": {},
   "outputs": [],
   "source": [
    "temp= zca_process(train_X).copy()\n",
    "temp.columns = [f'T={i[1]} K={i[0]}' for i in temp_data.columns]"
   ]
  },
  {
   "cell_type": "code",
   "execution_count": null,
   "id": "02e76d3e-0943-4023-bced-a2983e18350a",
   "metadata": {},
   "outputs": [],
   "source": [
    "print(f'Current Label Shown: {list_of_labels[current_label.value]}\\n')\n",
    "\n",
    "plt.title(list_of_labels[current_label.value])\n",
    "plt.plot()\n",
    "shap.summary_plot(shap_values = shap_value[current_label.value],\n",
    "                  features = temp_data.head(1500),\n",
    "                  )\n",
    "#plt.savefig(f'{list_of_labels[current_label.value]}_fcnn_shapley.png', bbox_inches = 'tight')"
   ]
  },
  {
   "cell_type": "markdown",
   "id": "c3b06f80-0c16-4818-9487-24a2a7b78c1f",
   "metadata": {},
   "source": [
    "### Bar plot"
   ]
  },
  {
   "cell_type": "code",
   "execution_count": null,
   "id": "c6d1e99f-497d-455e-a279-5921598a810b",
   "metadata": {},
   "outputs": [],
   "source": [
    "temp = np.abs(shap_value[current_label.value]).mean(axis=0)"
   ]
  },
  {
   "cell_type": "code",
   "execution_count": null,
   "id": "6099b949-4456-40fc-98d3-4e506ee76a12",
   "metadata": {},
   "outputs": [],
   "source": [
    "pd.DataFrame([temp], columns =[i for i in temp.columns]).sort_values(0,axis=1).iloc[0,-20:].plot.barh(figsize=(12,8))\n",
    "#plt.savefig(f'{list_of_labels[current_label.value]}_fcnn_shapley_bar.png',  bbox_inches = 'tight')"
   ]
  },
  {
   "cell_type": "markdown",
   "id": "e6389b62-41fa-4cec-8b1f-73144c2f833c",
   "metadata": {},
   "source": [
    "### Aggregated bar plot"
   ]
  },
  {
   "cell_type": "code",
   "execution_count": null,
   "id": "28737612-6dda-4e15-add5-9d2b468e5d1c",
   "metadata": {},
   "outputs": [],
   "source": [
    "agg_shap = pd.DataFrame(np.abs(shap_value).mean(axis=1),columns =[i for i in temp.columns]).T\n",
    "\n",
    "inds = agg_shap.sum(axis=1).sort_values(ascending=True)[-20:].index\n",
    "\n",
    "agg_shap.loc[inds].plot.barh(width=0.6,stacked=True, figsize=(8,8))\n",
    "plt.legend([r'$\\upsilon_0$', r'$\\rho$', r'$\\sigma$', r'$\\theta$', r'$\\kappa$'], frameon=False)\n",
    "plt.savefig('shap_fcnn_barh_1.png', bbox_inches='tight')"
   ]
  },
  {
   "cell_type": "markdown",
   "id": "1a084b7e-9922-4e77-93ef-29aaf007b1ca",
   "metadata": {
    "jp-MarkdownHeadingCollapsed": true,
    "tags": []
   },
   "source": [
    "### Heat map"
   ]
  },
  {
   "cell_type": "code",
   "execution_count": null,
   "id": "a71459db-c613-4e17-b302-96cda9ae14f0",
   "metadata": {},
   "outputs": [],
   "source": [
    "temp = pd.DataFrame(agg_shap.sum(axis=1).values.reshape(11,8))"
   ]
  },
  {
   "cell_type": "code",
   "execution_count": null,
   "id": "9e64faa4-2577-4825-bdaf-94b272fb341e",
   "metadata": {},
   "outputs": [],
   "source": [
    "cols = X.columns.levels[0][:-5].values\n",
    "d = {}\n",
    "for i in range(11):\n",
    "    d[i] = f'K={cols[i]}'\n",
    "\n",
    "temp = temp.rename(d)\n",
    "    \n",
    "cols = X.columns.levels[1][:-5].values\n",
    "d = {}\n",
    "for i in range(8):\n",
    "    d[i] = f'T={cols[i]}'\n",
    "\n",
    "temp = temp.rename(d,axis=1)"
   ]
  },
  {
   "cell_type": "code",
   "execution_count": null,
   "id": "3e33c727-8e84-4cbe-83a1-73b6be217085",
   "metadata": {},
   "outputs": [],
   "source": [
    "plt.title(f'SHAP Attributions Heat Map')\n",
    "sb.heatmap(test.abs().T)\n",
    "#plt.savefig(f'shapley_fcnn_heatmap.png', bbox_inches = 'tight')"
   ]
  },
  {
   "cell_type": "markdown",
   "id": "80d68530-346a-4c0f-9598-5b8f50346b97",
   "metadata": {
    "tags": []
   },
   "source": [
    "## E-LRP"
   ]
  },
  {
   "cell_type": "code",
   "execution_count": null,
   "id": "6552bfaa-5b94-491a-b91d-1cd7345fd3f8",
   "metadata": {},
   "outputs": [],
   "source": [
    "df=pd.read_csv('data.csv',sep=';', decimal=\",\", header=[0,1], index_col=0)\n",
    "X = df.iloc[:,:-5]\n",
    "Y = df.iloc[:, -5:]"
   ]
  },
  {
   "cell_type": "code",
   "execution_count": null,
   "id": "025eda8f-d0a9-444d-87b9-9b77946e7ed5",
   "metadata": {},
   "outputs": [],
   "source": [
    "title_map = {\n",
    "    'elrp': 'Epsilon-LRP'\n",
    "}\n",
    "\n",
    "xs =zca_process(X).iloc[0:1500].values\n",
    "method_name = \"elrp\""
   ]
  },
  {
   "cell_type": "code",
   "execution_count": null,
   "id": "ccf23568-e58f-4b6d-b48b-0f4ccfaaf3af",
   "metadata": {},
   "outputs": [],
   "source": [
    "session = tf.keras.backend.get_session()\n",
    "with DeepExplain(session=session) as de:\n",
    "    input_tensors = model.inputs\n",
    "    fModel = tf.keras.models.Model(inputs = input_tensors, outputs = model.outputs)\n",
    "    target_tensor = fModel(input_tensors)\n",
    "\n",
    "    attributions = de.explain(method_name, target_tensor, input_tensors, [xs])\n",
    "    #print (\"Attributions:\\n\", attributions)"
   ]
  },
  {
   "cell_type": "markdown",
   "id": "642f9855-3b05-4892-9889-e94649cf673a",
   "metadata": {},
   "source": [
    "### Bar plot"
   ]
  },
  {
   "cell_type": "code",
   "execution_count": null,
   "id": "6459faf3-948a-4a51-bef1-a6b028b0b662",
   "metadata": {},
   "outputs": [],
   "source": [
    "cols = [f'T={i[1]} K={i[0]}' for i in X.columns.values]\n",
    "mean_attr = np.mean(attributions[0],axis=0)\n",
    "attr = pd.DataFrame([mean_attr], columns=cols).abs().sort_values(0, axis=1)\n",
    "attr.T.iloc[-20:].plot.barh(legend=False, figsize=(8,8))\n",
    "#plt.savefig(f'{method_name}_fcnn_barh.png', bbox_inches='tight')"
   ]
  },
  {
   "cell_type": "markdown",
   "id": "b4c33b3a-a6d7-4a0e-93dd-3d8c24de593a",
   "metadata": {
    "tags": []
   },
   "source": [
    "### Heat map"
   ]
  },
  {
   "cell_type": "code",
   "execution_count": null,
   "id": "89e38dd5-335f-4853-bd95-83d39ed5c012",
   "metadata": {},
   "outputs": [],
   "source": [
    "heat_attr = pd.DataFrame(mean_attr.reshape(11,8))"
   ]
  },
  {
   "cell_type": "code",
   "execution_count": null,
   "id": "c716e63e-0b42-475a-a790-f81eb1795f71",
   "metadata": {},
   "outputs": [],
   "source": [
    "cols = X.columns.levels[0][:-5].values\n",
    "d = {}\n",
    "for i in range(11):\n",
    "    d[i] = f'K={cols[i]}'\n",
    "\n",
    "heat_attr = heat_attr.rename(d)\n",
    "    \n",
    "cols = X.columns.levels[1][:-5].values\n",
    "d = {}\n",
    "for i in range(8):\n",
    "    d[i] = f'T={cols[i]}'\n",
    "    \n",
    "heat_attr = heat_attr.rename(d,axis=1)"
   ]
  },
  {
   "cell_type": "code",
   "execution_count": null,
   "id": "4484ff1b-1801-4944-8d7b-c41d91a326ea",
   "metadata": {},
   "outputs": [],
   "source": [
    "plt.title(f'{title_map[method_name]} Attributions Heat Map')\n",
    "sb.heatmap(heat_attr.abs().T)\n",
    "#plt.savefig(f'{method_name}_fcnn_heatmap.png', bbox_inches = 'tight')"
   ]
  },
  {
   "cell_type": "markdown",
   "id": "1294cd30-e963-4b5a-96d4-51ad7f8c7e31",
   "metadata": {
    "tags": []
   },
   "source": [
    "## Integrated Gradient"
   ]
  },
  {
   "cell_type": "code",
   "execution_count": null,
   "id": "c9fb5f8f-7345-4cc4-ab39-9af65f439e17",
   "metadata": {},
   "outputs": [],
   "source": [
    "df=pd.read_csv('data.csv',sep=';', decimal=\",\", header=[0,1], index_col=0)\n",
    "X = df.iloc[:,:-5]\n",
    "Y = df.iloc[:, -5:]"
   ]
  },
  {
   "cell_type": "code",
   "execution_count": null,
   "id": "c646c4c9-ca9e-466b-943e-1c51314b75f9",
   "metadata": {},
   "outputs": [],
   "source": [
    "title_map = {\n",
    "    'intgrad': 'Integrated Gradient'\n",
    "}\n",
    "\n",
    "xs =zca_process(X).iloc[0:1500].values\n",
    "method_name = \"intgrad\""
   ]
  },
  {
   "cell_type": "code",
   "execution_count": null,
   "id": "751ea2fa-c730-4bbf-a8ab-a387c5aa9fba",
   "metadata": {},
   "outputs": [],
   "source": [
    "session = tf.keras.backend.get_session()\n",
    "with DeepExplain(session=session) as de:\n",
    "    input_tensors = model.inputs\n",
    "    fModel = tf.keras.models.Model(inputs = input_tensors, outputs = model.outputs)\n",
    "    target_tensor = fModel(input_tensors)\n",
    "\n",
    "    attributions = de.explain(method_name, target_tensor, input_tensors, [xs])\n",
    "    #print (\"Attributions:\\n\", attributions)"
   ]
  },
  {
   "cell_type": "code",
   "execution_count": 28,
   "id": "d5849e93-db42-4e13-b45c-037d8d063c6a",
   "metadata": {},
   "outputs": [],
   "source": [
    "### Bar plot"
   ]
  },
  {
   "cell_type": "code",
   "execution_count": null,
   "id": "0eb6c4ec-c9de-4ba9-838d-931a03d88c4e",
   "metadata": {},
   "outputs": [],
   "source": [
    "cols = [f'T={i[1]} K={i[0]}' for i in X.columns.values]\n",
    "mean_attr = np.mean(attributions[0],axis=0)\n",
    "attr = pd.DataFrame([mean_attr], columns=cols).abs().sort_values(0, axis=1)\n",
    "attr.T.iloc[-20:].plot.barh(legend=False, figsize=(8,8))\n",
    "#plt.savefig(f'{method_name}_fcnn_barh.png', bbox_inches='tight')"
   ]
  },
  {
   "cell_type": "code",
   "execution_count": 29,
   "id": "0d194a61-6893-4281-a6a8-8cbf803c666c",
   "metadata": {},
   "outputs": [],
   "source": [
    "### Heat map"
   ]
  },
  {
   "cell_type": "code",
   "execution_count": null,
   "id": "3b56a5cd-5fe1-4f23-ac14-3dbaa6a835c2",
   "metadata": {},
   "outputs": [],
   "source": [
    "heat_attr = pd.DataFrame(mean_attr.reshape(11,8))"
   ]
  },
  {
   "cell_type": "code",
   "execution_count": null,
   "id": "6a5060fc-e66b-4986-862b-f221ac7e0a97",
   "metadata": {},
   "outputs": [],
   "source": [
    "cols = X.columns.levels[0][:-5].values\n",
    "d = {}\n",
    "for i in range(11):\n",
    "    d[i] = f'K={cols[i]}'\n",
    "\n",
    "heat_attr = heat_attr.rename(d)\n",
    "    \n",
    "cols = X.columns.levels[1][:-5].values\n",
    "d = {}\n",
    "for i in range(8):\n",
    "    d[i] = f'T={cols[i]}'\n",
    "    \n",
    "heat_attr = heat_attr.rename(d,axis=1)"
   ]
  },
  {
   "cell_type": "code",
   "execution_count": null,
   "id": "72f64ba8-4dfc-4a1e-bc06-3d8326ea2597",
   "metadata": {},
   "outputs": [],
   "source": [
    "plt.title(f'{title_map[method_name]} Attributions Heat Map')\n",
    "sb.heatmap(heat_attr.abs().T)\n",
    "#plt.savefig(f'{method_name}_fcnn_heatmap.png', bbox_inches = 'tight')"
   ]
  }
 ],
 "metadata": {
  "kernelspec": {
   "display_name": "Python 3",
   "language": "python",
   "name": "python3"
  },
  "language_info": {
   "codemirror_mode": {
    "name": "ipython",
    "version": 3
   },
   "file_extension": ".py",
   "mimetype": "text/x-python",
   "name": "python",
   "nbconvert_exporter": "python",
   "pygments_lexer": "ipython3",
   "version": "3.6.12"
  }
 },
 "nbformat": 4,
 "nbformat_minor": 5
}
