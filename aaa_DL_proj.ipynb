{
 "cells": [
  {
   "cell_type": "code",
   "execution_count": 1,
   "metadata": {},
   "outputs": [],
   "source": [
    "#Import libraries\n",
    "import numpy as np\n",
    "import math as math\n",
    "import cmath as cmath\n",
    "import pandas as pd\n",
    "import matplotlib.pyplot as plt\n",
    "import scipy.stats as si\n"
   ]
  },
  {
   "cell_type": "code",
   "execution_count": 2,
   "metadata": {},
   "outputs": [],
   "source": [
    "K= [0.5, 0.6, 0.7, 0.8, 0.9, 1.0, 1.1, 1.2, 1.3, 1.4, 1.5]\n",
    "T = [0.1, 0.3, 0.6, 0.9, 1.2, 1.5, 1.8, 2.0]"
   ]
  },
  {
   "cell_type": "code",
   "execution_count": 3,
   "metadata": {},
   "outputs": [],
   "source": [
    "n_samples = 1\n",
    "v0 = np.random.uniform(low = 0.0001, high=0.04, size=(n_samples))\n",
    "rho = np.random.uniform(low = -0.95, high=-0.1, size=( n_samples))\n",
    "sigma = np.random.uniform(low = 0.01, high= 1, size=(n_samples))\n",
    "theta = np.random.uniform(low = 0.01, high= 0.2, size=(n_samples))\n",
    "kappa = np.random.uniform(low = 1, high = 10 , size=(n_samples))"
   ]
  },
  {
   "cell_type": "code",
   "execution_count": 4,
   "metadata": {},
   "outputs": [
    {
     "ename": "NameError",
     "evalue": "name 'Heston' is not defined",
     "output_type": "error",
     "traceback": [
      "\u001b[0;31m---------------------------------------------------------------------------\u001b[0m",
      "\u001b[0;31mNameError\u001b[0m                                 Traceback (most recent call last)",
      "\u001b[0;32m<ipython-input-4-eaee2c565f7d>\u001b[0m in \u001b[0;36m<module>\u001b[0;34m\u001b[0m\n\u001b[1;32m      4\u001b[0m     \u001b[0;32mfor\u001b[0m \u001b[0mstrike\u001b[0m \u001b[0;32min\u001b[0m \u001b[0mK\u001b[0m\u001b[0;34m:\u001b[0m\u001b[0;34m\u001b[0m\u001b[0;34m\u001b[0m\u001b[0m\n\u001b[1;32m      5\u001b[0m         \u001b[0;32mfor\u001b[0m \u001b[0mmaturity\u001b[0m \u001b[0;32min\u001b[0m \u001b[0mT\u001b[0m\u001b[0;34m:\u001b[0m\u001b[0;34m\u001b[0m\u001b[0;34m\u001b[0m\u001b[0m\n\u001b[0;32m----> 6\u001b[0;31m             \u001b[0mhc\u001b[0m\u001b[0;34m=\u001b[0m\u001b[0mHeston\u001b[0m\u001b[0;34m(\u001b[0m\u001b[0mS0\u001b[0m\u001b[0;34m=\u001b[0m\u001b[0;36m1\u001b[0m\u001b[0;34m,\u001b[0m\u001b[0mK\u001b[0m\u001b[0;34m=\u001b[0m\u001b[0mstrike\u001b[0m\u001b[0;34m,\u001b[0m\u001b[0mtau\u001b[0m\u001b[0;34m=\u001b[0m\u001b[0mmaturity\u001b[0m\u001b[0;34m,\u001b[0m \u001b[0mr\u001b[0m\u001b[0;34m=\u001b[0m\u001b[0;36m0.0\u001b[0m\u001b[0;34m,\u001b[0m \u001b[0mkappa\u001b[0m\u001b[0;34m=\u001b[0m\u001b[0mkappa\u001b[0m\u001b[0;34m[\u001b[0m\u001b[0mi\u001b[0m\u001b[0;34m]\u001b[0m\u001b[0;34m,\u001b[0m\u001b[0mtheta\u001b[0m\u001b[0;34m=\u001b[0m\u001b[0mtheta\u001b[0m\u001b[0;34m[\u001b[0m\u001b[0mi\u001b[0m\u001b[0;34m]\u001b[0m\u001b[0;34m,\u001b[0m\u001b[0mv0\u001b[0m\u001b[0;34m=\u001b[0m\u001b[0mv0\u001b[0m\u001b[0;34m[\u001b[0m\u001b[0mi\u001b[0m\u001b[0;34m]\u001b[0m\u001b[0;34m,\u001b[0m\u001b[0mlamda\u001b[0m\u001b[0;34m=\u001b[0m\u001b[0;36m0\u001b[0m\u001b[0;34m,\u001b[0m\u001b[0msigma\u001b[0m\u001b[0;34m=\u001b[0m\u001b[0msigma\u001b[0m\u001b[0;34m[\u001b[0m\u001b[0mi\u001b[0m\u001b[0;34m]\u001b[0m\u001b[0;34m,\u001b[0m\u001b[0mrho\u001b[0m\u001b[0;34m=\u001b[0m\u001b[0mrho\u001b[0m\u001b[0;34m[\u001b[0m\u001b[0mi\u001b[0m\u001b[0;34m]\u001b[0m\u001b[0;34m)\u001b[0m\u001b[0;34m;\u001b[0m\u001b[0;34m\u001b[0m\u001b[0;34m\u001b[0m\u001b[0m\n\u001b[0m\u001b[1;32m      7\u001b[0m             \u001b[0mprice\u001b[0m\u001b[0;34m=\u001b[0m\u001b[0mhc\u001b[0m\u001b[0;34m.\u001b[0m\u001b[0mprice\u001b[0m\u001b[0;34m(\u001b[0m\u001b[0;36m0.00001\u001b[0m\u001b[0;34m,\u001b[0m\u001b[0;36m1\u001b[0m\u001b[0;34m,\u001b[0m\u001b[0;36m10000\u001b[0m\u001b[0;34m)\u001b[0m\u001b[0;34m;\u001b[0m\u001b[0;34m\u001b[0m\u001b[0;34m\u001b[0m\u001b[0m\n\u001b[1;32m      8\u001b[0m \u001b[0;34m\u001b[0m\u001b[0m\n",
      "\u001b[0;31mNameError\u001b[0m: name 'Heston' is not defined"
     ]
    }
   ],
   "source": [
    "params_volsurface_map = {}\n",
    "for i in range(n_samples):\n",
    "    vol_surface = pd.DataFrame()\n",
    "    for strike in K:\n",
    "        for maturity in T:\n",
    "            hc=Heston(S0=1,K=strike,tau=maturity, r=0.0, kappa=kappa[i],theta=theta[i],v0=v0[i],lamda=0,sigma=sigma[i],rho=rho[i]);\n",
    "            price=hc.price(0.00001,1,10000);\n",
    "\n",
    "            c = price['Call price']\n",
    "\n",
    "            #underlying, strike, maturity, r, initial_guess\n",
    "            iv = newton_vol_call(1,strike,maturity, c , 0, 0.25)\n",
    "            vol_surface = vol_surface.append(pd.DataFrame([[iv, strike, maturity]], columns = ['IV', 'Strike', 'Maturity']), ignore_index=True)\n",
    "            #print(pd.DataFrame([[iv, strike, maturity]], columns = ['IV', 'Strike', 'Maturity']))\n",
    "    params_volsurface_map[i] = vol_surface"
   ]
  },
  {
   "cell_type": "code",
   "execution_count": 6,
   "metadata": {},
   "outputs": [],
   "source": [
    "#Class of Heston Stochastic Volatility Model\n",
    "#Using Euler Discretization and Milstein Discretization\n",
    "import numpy as np\n",
    "from numpy.random import standard_normal\n",
    "\n",
    "class HestonModel: \n",
    "    def __init__(self, nSteps, nPaths, s0, v0, r,theta, kappa, lamda, rho):\n",
    "        self._nSteps = nSteps\n",
    "        self._nPaths = nPaths\n",
    "        #Initial stock price\n",
    "        self._s0 = s0\n",
    "        #Initial volatility\n",
    "        self._v0 = v0\n",
    "        #risk free rate\n",
    "        self._r = r\n",
    "        #long term volatility(equiribrium level)\n",
    "        self._theta = theta\n",
    "        #Mean reversion speed of volatility\n",
    "        self._kappa = kappa\n",
    "        #lambda(volatility of Volatility)\n",
    "        self._lamda = lamda\n",
    "        #rho\n",
    "        self._rho = rho\n",
    "    #Euler Discretization\n",
    "    def _generate_path(self, dt):\n",
    "        s = np.zeros(self._nSteps + 1)\n",
    "        v = np.zeros(self._nSteps + 1)\n",
    "        s[0] = self._s0            \n",
    "        v[0] = self._v0\n",
    "        dW1 = standard_normal(self._nSteps)\n",
    "        dW2 = self._rho * dW1 + (1 - self._rho**2)**(0.5) * standard_normal(self._nSteps)\n",
    "        for j in range(0, self._nSteps):\n",
    "            s[j + 1] = s[j] * np.exp((self._r - 0.5 * v[j]) * dt + (v[j] * dt)**(0.5) * dW1[j])\n",
    "            v[j + 1] = max(v[j] + (self._kappa * (self._theta - v[j]) * dt) + self._lamda * (v[j] * dt)**(0.5) * dW2[j], 0)\n",
    "        return s\n",
    "    #Milstein Discretization\n",
    "    def _generate_path_Mil(self, dt):\n",
    "        s = np.zeros(self._nSteps + 1)\n",
    "        v = np.zeros(self._nSteps + 1)\n",
    "        s[0] = self._s0            \n",
    "        v[0] = self._v0\n",
    "        dW1 = standard_normal(self._nSteps)\n",
    "        dW2 = self._rho * dW1 + (1 - self._rho**2)**(0.5) * standard_normal(self._nSteps)\n",
    "        for j in range(0, self._nSteps):\n",
    "            s[j + 1] = s[j] * np.exp((self._r - 0.5 * v[j]) * dt + (v[j] * dt)**(0.5) * dW1[j])\n",
    "            v[j + 1] = max((self._kappa*(self._theta - v[j])*dt)-(0.25*(self._lamda**2)*dt)+\\\n",
    "                       (v[j]**0.5+0.5*self._lamda*dW2[j]*(dt**(0.5)))**2, 0)\n",
    "        return s            \n",
    "    #Pricing with Euler Discretization\n",
    "    def price(self, option):\n",
    "        payOff_Sum = 0.0\n",
    "        for i in range(0, self._nPaths):\n",
    "            payOff_Sum += option.payoff(self._generate_path(option.T / self._nSteps))\n",
    "        return (np.exp(- self._r * option.T) * payOff_Sum / self._nPaths)\n",
    "    #Pricing with Milstein Discretization\n",
    "    def price_Mil(self, option):\n",
    "        payOff_Sum = 0.0\n",
    "        for i in range(0, self._nPaths):\n",
    "            payOff_Sum += option.payoff(self._generate_path_Mil(option.T / self._nSteps))\n",
    "        return (np.exp(- self._r * option.T) * payOff_Sum / self._nPaths)\n",
    "class Option : \n",
    "    def __init__(self, K, T):\n",
    "        self.K = K\n",
    "        self.T = T\n",
    "    def payoff(self, underlying_path):\n",
    "        pass\n",
    "#Call Option class\n",
    "class CallOption(Option):\n",
    "    def payoff(self, underlying_path):\n",
    "        return max(underlying_path[-1] - self.K, 0)\n",
    "#Put Option class\n",
    "class PutOption(Option):\n",
    "    def payoff(self, underlying_path):\n",
    "        return max(self.K - underlying_path[-1], 0)\n",
    "    \n",
    "import numpy as np\n",
    "from scipy.stats import norm\n",
    "\n",
    "#Black Scholes Function\n",
    "def BS(S, K, T, r, v, callPutFlag = 'c'):\n",
    "    d1 = (np.log(S / K) + (r + 0.5 * v**2) * T) / (v * np.sqrt(T))\n",
    "    d2 = d1 - v * np.sqrt(T)\n",
    "    if (callPutFlag == 'c') or (callPutFlag == 'C'):\n",
    "        return S * norm.cdf(d1) - K * np.exp(-r * T) * norm.cdf(d2)\n",
    "    else:\n",
    "        return K * np.exp(-r * T) * norm.cdf(-d2) - S * norm.cdf(-d1)\n",
    "#Calc Vega    \n",
    "def BS_vega(S, K, T, r, v):\n",
    "    d1 = (np.log(S/K)+(r+0.5*v**2)*T)/(v*np.sqrt(T))\n",
    "    return (S*np.sqrt(T)*norm.cdf(d1))\n",
    "#Calc Implied volatility using Newton's Method\n",
    "def IV(price_, S, K, T, r, callPutFlag = 'c'):\n",
    "    max_it = 200\n",
    "    pre = 1.0e-5\n",
    "    v = 0.2\n",
    "    for i in range(max_it):\n",
    "        price = BS(S, K, T, r, v, callPutFlag = 'c')\n",
    "        vega = BS_vega(S, K, T, r, v)\n",
    "        price = price \n",
    "        diff = price_ - price\n",
    "        if (abs(diff)<pre):\n",
    "            return v\n",
    "        v = v + diff/vega\n",
    "    #return best vol\n",
    "    return v    "
   ]
  },
  {
   "cell_type": "code",
   "execution_count": 8,
   "metadata": {},
   "outputs": [
    {
     "name": "stdout",
     "output_type": "stream",
     "text": [
      "Strike: Heston:     Actual :    Difference:\n",
      "0.5     0.5001626096303132 12.56  -0.9601781361759304\n",
      "0.6     0.4010464224918899 9.55  -0.9580056102102733\n",
      "0.7     0.29969575702214396 7.1  -0.957789329996881\n",
      "0.7999999999999999     0.2004310094317926 5.4  -0.96288314640152\n",
      "0.8999999999999999     0.10288581914006459 3.9  -0.9736190207333167\n",
      "0.9999999999999999     0.03363279096567038 2.8  -0.9879882889408321\n",
      "1.0999999999999999     0.005731614079915231 1.94  -0.997045559752621\n",
      "1.1999999999999997     0.0007026865056726367 1.41  -0.9995016407761186\n"
     ]
    },
    {
     "ename": "IndexError",
     "evalue": "list index out of range",
     "output_type": "error",
     "traceback": [
      "\u001b[0;31m---------------------------------------------------------------------------\u001b[0m",
      "\u001b[0;31mIndexError\u001b[0m                                Traceback (most recent call last)",
      "\u001b[0;32m<ipython-input-8-197413b81c3b>\u001b[0m in \u001b[0;36m<module>\u001b[0;34m\u001b[0m\n\u001b[1;32m     44\u001b[0m     \u001b[0mprice\u001b[0m \u001b[0;34m=\u001b[0m \u001b[0mheston\u001b[0m\u001b[0;34m.\u001b[0m\u001b[0mprice\u001b[0m\u001b[0;34m(\u001b[0m\u001b[0mcall_option\u001b[0m\u001b[0;34m)\u001b[0m\u001b[0;34m\u001b[0m\u001b[0;34m\u001b[0m\u001b[0m\n\u001b[1;32m     45\u001b[0m     \u001b[0mheston_\u001b[0m\u001b[0;34m.\u001b[0m\u001b[0mappend\u001b[0m\u001b[0;34m(\u001b[0m\u001b[0mprice\u001b[0m\u001b[0;34m)\u001b[0m\u001b[0;34m\u001b[0m\u001b[0;34m\u001b[0m\u001b[0m\n\u001b[0;32m---> 46\u001b[0;31m     \u001b[0mprint\u001b[0m \u001b[0;34m(\u001b[0m\u001b[0mk\u001b[0m\u001b[0;34m,\u001b[0m\u001b[0;34m\"   \"\u001b[0m\u001b[0;34m,\u001b[0m \u001b[0mprice\u001b[0m\u001b[0;34m,\u001b[0m \u001b[0mactual\u001b[0m\u001b[0;34m[\u001b[0m\u001b[0mi\u001b[0m\u001b[0;34m]\u001b[0m\u001b[0;34m,\u001b[0m\u001b[0;34m\"\"\u001b[0m\u001b[0;34m,\u001b[0m\u001b[0;34m(\u001b[0m\u001b[0mprice\u001b[0m\u001b[0;34m-\u001b[0m\u001b[0mactual\u001b[0m\u001b[0;34m[\u001b[0m\u001b[0mi\u001b[0m\u001b[0;34m]\u001b[0m\u001b[0;34m)\u001b[0m\u001b[0;34m/\u001b[0m\u001b[0mactual\u001b[0m\u001b[0;34m[\u001b[0m\u001b[0mi\u001b[0m\u001b[0;34m]\u001b[0m\u001b[0;34m)\u001b[0m\u001b[0;34m\u001b[0m\u001b[0;34m\u001b[0m\u001b[0m\n\u001b[0m\u001b[1;32m     47\u001b[0m     \u001b[0mi\u001b[0m \u001b[0;34m=\u001b[0m \u001b[0mi\u001b[0m\u001b[0;34m+\u001b[0m\u001b[0;36m1\u001b[0m\u001b[0;34m\u001b[0m\u001b[0;34m\u001b[0m\u001b[0m\n\u001b[1;32m     48\u001b[0m \u001b[0;34m\u001b[0m\u001b[0m\n",
      "\u001b[0;31mIndexError\u001b[0m: list index out of range"
     ]
    }
   ],
   "source": [
    "#import numpy as np\n",
    "import matplotlib.pyplot as plt\n",
    "#from black_sholes import BS\n",
    "#from option import CallOption\n",
    "#from model import HestonModel\n",
    "\n",
    "#Number of time steps\n",
    "nSteps = 50\n",
    "#Number of monte carlo paths\n",
    "nPaths = 10000\n",
    "#Strike\n",
    "#K = 145\n",
    "#maturity\n",
    "T = 0.1\n",
    "#Initial stock price\n",
    "s0 = 1 #GOOGL\n",
    "#Initial volatility\n",
    "v0 = 0.3371\n",
    "#risk free rate\n",
    "r = 0\n",
    "#long term volatility(equiribrium level)\n",
    "theta = 0\n",
    "#Mean reversion speed of volatility\n",
    "kappa = 46.7194\n",
    "#lambda(volatility of Volatility)\n",
    "sigma = 0.0491\n",
    "#rho\n",
    "rho = 0.059\n",
    "v0 = v0\n",
    "rho = rho\n",
    "sigma = sigma\n",
    "theta = theta\n",
    "kappa = kappa\n",
    "\n",
    "#simulation\n",
    "K = np.arange(0.5, 1.5, 0.1)\n",
    "actual = [12.56, 9.55, 7.10, 5.40, 3.90, 2.80, 1.94, 1.41]\n",
    "heston_ = []\n",
    "print (\"Strike:\",\"Heston:    \", \"Actual :   \",\"Difference:\")\n",
    "i = 0\n",
    "for k in K:\n",
    "    call_option = CallOption(k, T)\n",
    "    heston = HestonModel(nSteps, nPaths, s0, v0, r, theta, kappa, sigma, rho)\n",
    "    price = heston.price(call_option)\n",
    "    heston_.append(price)\n",
    "    print (k,\"   \", price, actual[i],\"\",(price-actual[i])/actual[i])\n",
    "    i = i+1\n",
    "    \n",
    "\n",
    "\n",
    "#plot result\n",
    "plt.plot(K, heston_,\"b\")\n",
    "plt.plot(K, actual,\"r\")\n",
    "plt.xlabel('Strike (K)')\n",
    "plt.ylabel('Option price')\n",
    "plt.title('JPM')\n",
    "plt.show()"
   ]
  },
  {
   "cell_type": "code",
   "execution_count": 14,
   "metadata": {},
   "outputs": [
    {
     "data": {
      "text/plain": [
       "0.2318993890221547"
      ]
     },
     "execution_count": 14,
     "metadata": {},
     "output_type": "execute_result"
    }
   ],
   "source": [
    "IV(0.40120071417989733,1,0.6,1.1,0,'c')"
   ]
  },
  {
   "cell_type": "code",
   "execution_count": 15,
   "metadata": {},
   "outputs": [
    {
     "data": {
      "text/plain": [
       "0.17881263491448884"
      ]
     },
     "execution_count": 15,
     "metadata": {},
     "output_type": "execute_result"
    }
   ],
   "source": [
    "IV(0.30171049443832915,1,0.7,1.1,0,'c')"
   ]
  },
  {
   "cell_type": "code",
   "execution_count": 16,
   "metadata": {},
   "outputs": [
    {
     "data": {
      "text/plain": [
       "0.11014514331046768"
      ]
     },
     "execution_count": 16,
     "metadata": {},
     "output_type": "execute_result"
    }
   ],
   "source": [
    "IV(0.20104072041111268,1,0.8,1.1,0,'c')"
   ]
  },
  {
   "cell_type": "code",
   "execution_count": 17,
   "metadata": {},
   "outputs": [
    {
     "data": {
      "text/plain": [
       "0.08982815823173457"
      ]
     },
     "execution_count": 17,
     "metadata": {},
     "output_type": "execute_result"
    }
   ],
   "source": [
    "IV(0.1059009501036606,1,0.9,1.1,0,'c')"
   ]
  },
  {
   "cell_type": "code",
   "execution_count": null,
   "metadata": {},
   "outputs": [],
   "source": []
  }
 ],
 "metadata": {
  "kernelspec": {
   "display_name": "Python 3",
   "language": "python",
   "name": "python3"
  },
  "language_info": {
   "codemirror_mode": {
    "name": "ipython",
    "version": 3
   },
   "file_extension": ".py",
   "mimetype": "text/x-python",
   "name": "python",
   "nbconvert_exporter": "python",
   "pygments_lexer": "ipython3",
   "version": "3.6.12"
  }
 },
 "nbformat": 4,
 "nbformat_minor": 4
}
